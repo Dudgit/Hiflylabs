{
 "cells": [
  {
   "cell_type": "markdown",
   "metadata": {},
   "source": [
    "# Supervised learning introduction, K-Nearest Neighbors (KNN)\n",
    "-----\n",
    "\n",
    "\n",
    "#### 1. Read data\n",
    "\n",
    "The provided three files (glass.data, glass.tag, glass.names) contains a small dataset. \"[The study of classification of types of glass was motivated by criminological investigation. At the scene of the crime, the glass left can be used as evidence...if it is correctly identified!](https://archive.ics.uci.edu/ml/datasets/Glass+Identification)\"\n",
    "\n",
    " - read the content of the glass.data file as a pandas dataframe\n",
    " - use the column names found in the glass.names file\n",
    " - if needed, handle the missing values\n",
    " - get rid of the ID column\n",
    " - separate the GlassType from the dataset and store it in a one-hot encoded manner (if we have 3 classes, than instead of 1, 2, 3 we use [1, 0, 0], [0, 1, 0] and [0, 0, 1]. So each dimension represents a class and 1 means the sample belongs to that class, 0 is the opposite)\n",
    "    - be careful, the data contains only 1-2-3-5-6-7, 4 is missing! Convert 5 $\\to$ 4, 6 $\\to$ 5 and 7 $\\to$ 6 and then apply the one-got encoding\n",
    "    - also keep the converted labels, where y is 1-2-3-4-5-6, we will need them later\n",
    " \n",
    "-----\n",
    "\n",
    "#### 2. \\& 3. Implement KNN\n",
    "\n",
    "Implement the K-nearest neighbors regression algorithm using only pure Python3 and numpy! Use L2 distance to find the neighbors. The prediction for each class should be the number of neighbors supporing the given class divided by **k** (for example if **k** is 5 and we have 3 neighbors for class A, 2 for class B and 0 for class C neighbors, then the prediction for class A should be 3/5, for class B 2/5, for class C 0/5). \n",
    "\n",
    "Complete the function!\n",
    "\n",
    "```python\n",
    "def knn_classifier(k, X_train, y_train, X_test):\n",
    "    ...\n",
    "    return predictions\n",
    "```\n",
    " - **k** is the number of neighbors to be considered\n",
    " - **X_train** is the training data points\n",
    " - **X_test** is the test data points\n",
    " - **y_train** is the labels for the training data\n",
    " - assume that **y_test** is one-hot encoded.\n",
    "\n",
    "A valid-syntaxed input looks like:\n",
    "````python\n",
    "k = 2\n",
    "X_train = [[0.9, 0.2, 0.8] , [-1.2, 1.5, 0.7], [5.8, 0.0, 0.9], [6.2, 0.9, 0.9]]\n",
    "y_train = [[0, 1], [0, 1], [1, 0], [0, 1]]\n",
    "X_test  = [[0.8, 0.8, 0.6], [0.5, 0.4, 0.3]]\n",
    "```\n",
    "\n",
    "Here, it means that the training data consists of 4 points, each point is placed in a 3 dimensional space. And there are two possible classes for each point and there are two data points for that predictions is needed.\n",
    "\n",
    "#### 4. Predictions & interpretation\n",
    "\n",
    "- use every second (0, 2, 4, etc indicies) datapoint as training data and use the rest (1, 3, 5, ...) as test data\n",
    "- generate predictions with the implemented KNN with k=5\n",
    "- calculate the accuracy and the confusion matrix for the predictions\n",
    "- if the probability is the same for two or more classes select the first one from the left in the one-hot encoded version (or which has the smallest number in the original dataset)\n",
    "\n",
    "-----\n",
    "\n",
    "#### 5. Compare it to Sklearn's KNN\n",
    "- using the same train/test split generate predictions with sklearn KNNs. Use 5 neighbors again\n",
    "- are the predictions the same as for our implementation? (they should be)\n",
    "   - note: to get sklearn perform the same algorithm as out implementation it expects you to provide non one-hot encoding labels. That's why we kept them in the first exercise\n",
    "\n",
    "\n",
    "-----\n",
    "\n",
    "\n",
    "### Hints:\n",
    " - On total you can get 10 points for fully completing all tasks.\n",
    " - Decorate your notebook with, questions, explanation etc, make it self contained and understandable!\n",
    " - Comments you code when necessary\n",
    " - Write functions for repetitive tasks!\n",
    " - Use the pandas package for data loading and handling\n",
    " - Use matplotlib and seaborn for plotting or bokeh and plotly for interactive investigation\n",
    " - Use the scikit learn package for almost everything\n",
    " - Use for loops only if it is really necessary!\n",
    " - Code sharing is not allowed between student! Sharing code will result in zero points.\n",
    " - If you use code found on web, it is OK, but, make its source clear! "
   ]
  },
  {
   "cell_type": "markdown",
   "metadata": {},
   "source": [
    "# Preps"
   ]
  },
  {
   "cell_type": "code",
   "execution_count": 1,
   "metadata": {},
   "outputs": [],
   "source": [
    "import pandas as pd\n",
    "import numpy as np\n",
    "import seaborn as sns\n",
    "from sklearn.neighbors import KNeighborsClassifier\n",
    "from sklearn.metrics import confusion_matrix"
   ]
  },
  {
   "cell_type": "markdown",
   "metadata": {},
   "source": [
    "# Task 1"
   ]
  },
  {
   "cell_type": "code",
   "execution_count": 2,
   "metadata": {},
   "outputs": [],
   "source": [
    "def get_cols(start=43,end=56,skip=47):    \n",
    "    \"\"\"\n",
    "    Since the glass.names is aviable to check, I decided to check wich lines contains the column names and read them from it\n",
    "    I assume there are sophisticated ways to solve this problem, but it does it's work\n",
    "    So it reads the glass.names, takes the lines one by one, and from the start line to end reads column names and skips the skip parameter\n",
    "    \"\"\"\n",
    "    file_to_read = open(\"glass.names\")\n",
    "    cols = []\n",
    "    for position, line in enumerate(file_to_read):\n",
    "        if position > start and position <end and position != skip:\n",
    "                cols.append(line.split(\". \",)[1].split(\":\")[0])\n",
    "    return cols"
   ]
  },
  {
   "cell_type": "code",
   "execution_count": 3,
   "metadata": {},
   "outputs": [],
   "source": [
    "def read_reform(file_name = \"glass.data\", dropThis=\"Id number\",fill = False):\n",
    "    \"\"\"\n",
    "    This function read the glass.data, or whatever you give it and read it, by the delimiter ,\n",
    "    Then drops a column Id number\n",
    "    Optnionally fills the missing values with column wise mean, default is False so won't do it \n",
    "    Finally does the one-hot encoding with the pandas get_dummies function and ads it to the original DataFrame object\n",
    "    \"\"\"\n",
    "    df = pd.read_csv(file_name,names = get_cols() ,delimiter = \",\")\n",
    "    df = df.drop(dropThis,axis = 1 )\n",
    "    if fill:\n",
    "        df.fillna(df.mean(),inplace = True)\n",
    "    df[\"Type of glass\"].where(df[\"Type of glass\"] < 4, df[\"Type of glass\"]-1 , axis = 0, inplace = True)\n",
    "   \n",
    "    return df"
   ]
  },
  {
   "cell_type": "code",
   "execution_count": 4,
   "metadata": {},
   "outputs": [],
   "source": [
    "df = read_reform()"
   ]
  },
  {
   "cell_type": "code",
   "execution_count": 5,
   "metadata": {},
   "outputs": [],
   "source": [
    "# Slice the DataFrame into 4 parts, wich we want to use\n",
    "Y_train = np.array(df[\"Type of glass\"][::2])\n",
    "Y_test = np.array(df[\"Type of glass\"][1::2])\n",
    "X_train = np.array(df[::2][df.columns[:len(df.columns)-1]])\n",
    "X_test = np.array(df[1::2][df.columns[:len(df.columns)-1]])"
   ]
  },
  {
   "cell_type": "code",
   "execution_count": 6,
   "metadata": {},
   "outputs": [],
   "source": [
    "df = pd.concat([df,pd.get_dummies(df[\"Type of glass\"])],axis = 1 )"
   ]
  },
  {
   "cell_type": "markdown",
   "metadata": {},
   "source": [
    "# Task 2 & 3"
   ]
  },
  {
   "cell_type": "code",
   "execution_count": 7,
   "metadata": {},
   "outputs": [],
   "source": [
    "def dists(a,points):\n",
    "    \"\"\"\n",
    "    It creates a matrix wich contains the distances of every point\n",
    "    It's first index reffers to the f\n",
    "    \"\"\" \n",
    "    return [np.linalg.norm(a-b) for b in points]    "
   ]
  },
  {
   "cell_type": "code",
   "execution_count": 8,
   "metadata": {},
   "outputs": [],
   "source": [
    "def get_indexes(k,distance):\n",
    "    \"\"\"\n",
    "    This function will return the indexes of the k nearest points \n",
    "    Create indexes for every element of the list, than sort the lists and the indexes with them\n",
    "    Returns the indexes, we want\n",
    "    \"\"\"\n",
    "    indexes = [i for i in range (len(distance))]\n",
    "    zipped = zip(distance,indexes)\n",
    "    sorted_zipped_lists = sorted(zipped)\n",
    "\n",
    "    sorted_list1 = [element for _, element in sorted_zipped_lists]\n",
    "    \n",
    "    return sorted_list1[:k]"
   ]
  },
  {
   "cell_type": "code",
   "execution_count": 9,
   "metadata": {},
   "outputs": [],
   "source": [
    "def hot_encode(num):\n",
    "    \"\"\"\n",
    "    This function is a very, very basic hot-encoder function if it is required to classify the values in this format\n",
    "    \"\"\"\n",
    "    res = np.zeros(6)\n",
    "    res[num-1] = 1\n",
    "    return res"
   ]
  },
  {
   "cell_type": "code",
   "execution_count": 10,
   "metadata": {},
   "outputs": [],
   "source": [
    "def knn_classifier(k,X_train,Y_train,X_test, hot_encode_required = True):   \n",
    "    \"\"\"\n",
    "    This is my knn classifier using only numpy\n",
    "    I added an optional hot_encode_required argument if it would be necesarry\n",
    "    The second solution is kinda better, because it uses list comprehension isteand of appending\n",
    "    But through the first part it's easier to see what does the function actually do\n",
    "    \"\"\"\n",
    "    # First part\n",
    "    if hot_encode_required:\n",
    "        predictions = []\n",
    "        for point in X_train:\n",
    "            distances = dists(point,X_test)\n",
    "            nearest_indexes = get_indexes(k,distances)\n",
    "            predictions.append(hot_encode(np.bincount(Y_train[nearest_indexes]).argmax()))\n",
    "        return predictions\n",
    "    #Second part\n",
    "    else:\n",
    "        return  [np.bincount(Y_train[get_indexes(k,dists(point,X_train))]).argmax() for point in X_test]\n",
    "    \n",
    "        "
   ]
  },
  {
   "cell_type": "markdown",
   "metadata": {},
   "source": [
    "# Task 4"
   ]
  },
  {
   "cell_type": "code",
   "execution_count": 11,
   "metadata": {},
   "outputs": [],
   "source": [
    "preds = knn_classifier(5,X_train,Y_train,X_test)"
   ]
  },
  {
   "cell_type": "code",
   "execution_count": 12,
   "metadata": {},
   "outputs": [],
   "source": [
    "def confusion_mx(predictions,actuals):\n",
    "    \"\"\"\n",
    "    This function creates a confusion matrix object and returns it if it would be necesarry just uncomment the last line\n",
    "    Also creates a heatmap, wich helps us to visualize\n",
    "    I used the original types and not the hot-encoded ones, because it's esier to see 1 number insted of a series of numbers\n",
    "    And because the sklearn uses also non hot-encoded values, easier to compare\n",
    "    \"\"\"\n",
    "    df = pd.DataFrame({'Actual':actuals,'Predicted':predictions} , columns=['Actual','Predicted'])    \n",
    "    confusion_matrix = pd.crosstab(df['Actual'],df['Predicted'],rownames =['Actual'],colnames =['Predicted'] )\n",
    "    sns.heatmap(confusion_matrix,annot = True)\n",
    "   # return confusion_matrix"
   ]
  },
  {
   "cell_type": "code",
   "execution_count": 13,
   "metadata": {},
   "outputs": [
    {
     "data": {
      "image/png": "[encoded data removed]",
      "text/plain": [
       "<Figure size 432x288 with 2 Axes>"
      ]
     },
     "metadata": {
      "needs_background": "light"
     },
     "output_type": "display_data"
    }
   ],
   "source": [
    "confusion_mx(knn_classifier(5,X_train,Y_train,X_test,False),Y_test)"
   ]
  },
  {
   "cell_type": "markdown",
   "metadata": {},
   "source": [
    "# Task 5"
   ]
  },
  {
   "cell_type": "code",
   "execution_count": 14,
   "metadata": {},
   "outputs": [
    {
     "data": {
      "text/plain": [
       "<matplotlib.axes._subplots.AxesSubplot at 0x7fc00caf15c0>"
      ]
     },
     "execution_count": 14,
     "metadata": {},
     "output_type": "execute_result"
    },
    {
     "data": {
      "image/png": "[encoded data removed]",
      "text/plain": [
       "<Figure size 432x288 with 2 Axes>"
      ]
     },
     "metadata": {
      "needs_background": "light"
     },
     "output_type": "display_data"
    }
   ],
   "source": [
    "model = KNeighborsClassifier(n_neighbors=5, metric = \"euclidean\")\n",
    "model.fit(X_train,Y_train)\n",
    "preds_2 = model.predict(X_test)\n",
    "\n",
    "sns.heatmap(confusion_matrix(Y_train,preds_2), annot = True)"
   ]
  }
 ],
 "metadata": {
  "kernelspec": {
   "display_name": "Python 3",
   "language": "python",
   "name": "python3"
  },
  "language_info": {
   "codemirror_mode": {
    "name": "ipython",
    "version": 3
   },
   "file_extension": ".py",
   "mimetype": "text/x-python",
   "name": "python",
   "nbconvert_exporter": "python",
   "pygments_lexer": "ipython3",
   "version": "3.6.8"
  }
 },
 "nbformat": 4,
 "nbformat_minor": 4
}
